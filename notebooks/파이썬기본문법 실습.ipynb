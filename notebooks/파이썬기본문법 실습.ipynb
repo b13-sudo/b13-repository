{
 "cells": [
  {
   "cell_type": "markdown",
   "metadata": {},
   "source": [
    "### Hello, Python"
   ]
  },
  {
   "cell_type": "code",
   "execution_count": 1,
   "metadata": {},
   "outputs": [
    {
     "name": "stdout",
     "output_type": "stream",
     "text": [
      "Hello, Python1\n",
      "Hello, Python2\n",
      "Hello, Python3\n"
     ]
    }
   ],
   "source": [
    "print(\"Hello, Python1\")\n",
    "print(\"Hello, Python2\")\n",
    "print('Hello, Python3') # 큰 따옴표 작은 따옴표 상관없이 출력"
   ]
  },
  {
   "cell_type": "code",
   "execution_count": 2,
   "metadata": {},
   "outputs": [
    {
     "data": {
      "text/plain": [
       "'Hello, Python3'"
      ]
     },
     "execution_count": 2,
     "metadata": {},
     "output_type": "execute_result"
    }
   ],
   "source": [
    "\"Hello, Python1\"\n",
    "\"Hello, Python2\"\n",
    "\"Hello, Python3\" # 주피터 노트의 특징 마지막에는 값이 있으면 출력해줌"
   ]
  },
  {
   "cell_type": "code",
   "execution_count": 3,
   "metadata": {},
   "outputs": [
    {
     "ename": "NameError",
     "evalue": "name 'Hello' is not defined",
     "output_type": "error",
     "traceback": [
      "\u001b[0;31m---------------------------------------------------------------------------\u001b[0m",
      "\u001b[0;31mNameError\u001b[0m                                 Traceback (most recent call last)",
      "Cell \u001b[0;32mIn[3], line 1\u001b[0m\n\u001b[0;32m----> 1\u001b[0m \u001b[43mHello\u001b[49m, Python1\n\u001b[1;32m      2\u001b[0m Hello, Python2\n\u001b[1;32m      3\u001b[0m Hello, Python3\n",
      "\u001b[0;31mNameError\u001b[0m: name 'Hello' is not defined"
     ]
    }
   ],
   "source": [
    "Hello, Python1\n",
    "Hello, Python2\n",
    "Hello, Python3 # 문자열에 따옴표가 없으면 변수일 거라고 생각하고, 선언을 찾고 없어서 오류라고 나옴"
   ]
  },
  {
   "cell_type": "code",
   "execution_count": 4,
   "metadata": {},
   "outputs": [
    {
     "name": "stdout",
     "output_type": "stream",
     "text": [
      "1\n",
      "2\n",
      "3\n"
     ]
    }
   ],
   "source": [
    "print(1)\n",
    "print(2)\n",
    "print(3) # 숫자 123"
   ]
  },
  {
   "cell_type": "code",
   "execution_count": 5,
   "metadata": {},
   "outputs": [
    {
     "name": "stdout",
     "output_type": "stream",
     "text": [
      "1\n",
      "2\n",
      "3\n"
     ]
    }
   ],
   "source": [
    "print('1')\n",
    "print('2')\n",
    "print('3') # 문자 123, 따옴표가 있으면 문자가 되는 것"
   ]
  },
  {
   "cell_type": "code",
   "execution_count": 6,
   "metadata": {},
   "outputs": [
    {
     "name": "stdout",
     "output_type": "stream",
     "text": [
      "2\n",
      "4\n",
      "6\n"
     ]
    }
   ],
   "source": [
    "print(1+1)\n",
    "print(2+2)\n",
    "print(3+3) # 계산 해줌"
   ]
  },
  {
   "cell_type": "code",
   "execution_count": 7,
   "metadata": {},
   "outputs": [
    {
     "name": "stdout",
     "output_type": "stream",
     "text": [
      "1+1\n",
      "2+2\n",
      "3+3\n"
     ]
    }
   ],
   "source": [
    "print('1+1')\n",
    "print('2+2')\n",
    "print('3+3') # 따옴표가 있었기 때문에 문자로 인식하고, 그대로 출력"
   ]
  },
  {
   "cell_type": "code",
   "execution_count": 8,
   "metadata": {},
   "outputs": [
    {
     "data": {
      "text/plain": [
       "6"
      ]
     },
     "execution_count": 8,
     "metadata": {},
     "output_type": "execute_result"
    }
   ],
   "source": [
    "1+1\n",
    "2+2\n",
    "3+3 # 주피터 노트북의 특징으로, 마지막줄에 있는 변수의 값 등 데이터들은 출력해줌"
   ]
  },
  {
   "cell_type": "code",
   "execution_count": 9,
   "metadata": {},
   "outputs": [
    {
     "data": {
      "text/plain": [
       "'3'"
      ]
     },
     "execution_count": 9,
     "metadata": {},
     "output_type": "execute_result"
    }
   ],
   "source": [
    "'1'\n",
    "'2'\n",
    "'3' # 문자들, 주피터 노트북은 문자열의 경우 따옴표도 출력"
   ]
  },
  {
   "cell_type": "code",
   "execution_count": 16,
   "metadata": {},
   "outputs": [
    {
     "data": {
      "text/plain": [
       "3"
      ]
     },
     "execution_count": 16,
     "metadata": {},
     "output_type": "execute_result"
    }
   ],
   "source": [
    "1\n",
    "2\n",
    "3 # 숫자라서 그냥 나옴, 따옴표 없으니까"
   ]
  },
  {
   "cell_type": "markdown",
   "metadata": {},
   "source": [
    "### 파이썬 코딩 규칙"
   ]
  },
  {
   "cell_type": "code",
   "execution_count": 12,
   "metadata": {},
   "outputs": [
    {
     "name": "stdout",
     "output_type": "stream",
     "text": [
      "Hello, Python1\n",
      "Hello, Python2\n"
     ]
    },
    {
     "ename": "NameError",
     "evalue": "name 'Print' is not defined",
     "output_type": "error",
     "traceback": [
      "\u001b[0;31m---------------------------------------------------------------------------\u001b[0m",
      "\u001b[0;31mNameError\u001b[0m                                 Traceback (most recent call last)",
      "Cell \u001b[0;32mIn[12], line 4\u001b[0m\n\u001b[1;32m      2\u001b[0m \u001b[38;5;28mprint\u001b[39m(\u001b[38;5;124m'\u001b[39m\u001b[38;5;124mHello, Python1\u001b[39m\u001b[38;5;124m'\u001b[39m)\n\u001b[1;32m      3\u001b[0m \u001b[38;5;28mprint\u001b[39m(\u001b[38;5;124m'\u001b[39m\u001b[38;5;124mHello, Python2\u001b[39m\u001b[38;5;124m'\u001b[39m)\n\u001b[0;32m----> 4\u001b[0m \u001b[43mPrint\u001b[49m(\u001b[38;5;124m'\u001b[39m\u001b[38;5;124mHello, Python3\u001b[39m\u001b[38;5;124m'\u001b[39m)\n",
      "\u001b[0;31mNameError\u001b[0m: name 'Print' is not defined"
     ]
    }
   ],
   "source": [
    "# 대문자와 소문자 구분\n",
    "print('Hello, Python1')\n",
    "print('Hello, Python2')\n",
    "Print('Hello, Python3')"
   ]
  },
  {
   "cell_type": "code",
   "execution_count": 13,
   "metadata": {},
   "outputs": [
    {
     "ename": "IndentationError",
     "evalue": "unexpected indent (994402337.py, line 4)",
     "output_type": "error",
     "traceback": [
      "\u001b[0;36m  Cell \u001b[0;32mIn[13], line 4\u001b[0;36m\u001b[0m\n\u001b[0;31m    print('Hello, Python3')\u001b[0m\n\u001b[0m    ^\u001b[0m\n\u001b[0;31mIndentationError\u001b[0m\u001b[0;31m:\u001b[0m unexpected indent\n"
     ]
    }
   ],
   "source": [
    "# 들여쓰기\n",
    "print('Hello, Python1')\n",
    "print('Hello, Python2')\n",
    " print('Hello, Python3')"
   ]
  },
  {
   "cell_type": "code",
   "execution_count": 14,
   "metadata": {},
   "outputs": [
    {
     "name": "stdout",
     "output_type": "stream",
     "text": [
      "Hello, Python1\n",
      "Hello, Python2\n"
     ]
    }
   ],
   "source": [
    "# 한줄주석\n",
    "print('Hello, Python1') \n",
    "print('Hello, Python2')\n",
    "# print('Hello, Python3')"
   ]
  },
  {
   "cell_type": "markdown",
   "metadata": {},
   "source": [
    "### 출력함수 호출하기"
   ]
  },
  {
   "cell_type": "code",
   "execution_count": 17,
   "metadata": {},
   "outputs": [
    {
     "name": "stdout",
     "output_type": "stream",
     "text": [
      "\u001b[0;31mDocstring:\u001b[0m\n",
      "print(value, ..., sep=' ', end='\\n', file=sys.stdout, flush=False)\n",
      "\n",
      "Prints the values to a stream, or to sys.stdout by default.\n",
      "Optional keyword arguments:\n",
      "file:  a file-like object (stream); defaults to the current sys.stdout.\n",
      "sep:   string inserted between values, default a space.\n",
      "end:   string appended after the last value, default a newline.\n",
      "flush: whether to forcibly flush the stream.\n",
      "\u001b[0;31mType:\u001b[0m      builtin_function_or_method"
     ]
    }
   ],
   "source": [
    "# 함수 도움말 보기\n",
    "# 함수명? (주피터 노트북의 경우)\n",
    "# help(함수명) (파이썬의 경우)\n",
    "\n",
    "# print함수의 도움말 보기\n",
    "print?"
   ]
  },
  {
   "cell_type": "code",
   "execution_count": 18,
   "metadata": {},
   "outputs": [
    {
     "name": "stdout",
     "output_type": "stream",
     "text": [
      "python\n",
      "100\n",
      "2\n"
     ]
    }
   ],
   "source": [
    "# 하나의 값 출력하기\n",
    "print('python')\n",
    "print(100)\n",
    "print(1+1)"
   ]
  },
  {
   "cell_type": "code",
   "execution_count": 19,
   "metadata": {},
   "outputs": [
    {
     "name": "stdout",
     "output_type": "stream",
     "text": [
      "Hello, Python!\n"
     ]
    }
   ],
   "source": [
    "message = \"Hello, Python!\" \n",
    "\n",
    "# 변수 message의 값을 출력하세요.\n",
    "print(message)"
   ]
  },
  {
   "cell_type": "code",
   "execution_count": 21,
   "metadata": {},
   "outputs": [
    {
     "name": "stdout",
     "output_type": "stream",
     "text": [
      "python java c\n",
      "1431*15= 21465\n"
     ]
    }
   ],
   "source": [
    "# 두개 이상의 값 출력하기\n",
    "print('python', 'java', 'c')\n",
    "\n",
    "# 수식과 결과 출력하기\n",
    "# (예) 1+1= 2\n",
    "print('1431*15=', 1431*15)"
   ]
  },
  {
   "cell_type": "code",
   "execution_count": 25,
   "metadata": {},
   "outputs": [
    {
     "name": "stdout",
     "output_type": "stream",
     "text": [
      "python #java #c\n",
      "1+1=2\n"
     ]
    }
   ],
   "source": [
    "# 해시태그 '#'를 구분자로 지정하기\n",
    "print('python', 'java', 'c', sep = ' #') # sep= 공백 관리 가능\n",
    "\n",
    "# 빈문자''를 구분자로 지정하기\n",
    "print('1+1=', 1+1, sep='') "
   ]
  },
  {
   "cell_type": "code",
   "execution_count": 27,
   "metadata": {},
   "outputs": [
    {
     "name": "stdout",
     "output_type": "stream",
     "text": [
      "Life is short, You need python\n"
     ]
    }
   ],
   "source": [
    "# 끝문자를 지정하여, 두 문장을 줄바꿈 없이 출력하기\n",
    "print('Life is short', end=', ') # end= 줄 바꿈 관리 가능\n",
    "print('You need python')"
   ]
  },
  {
   "cell_type": "code",
   "execution_count": 28,
   "metadata": {},
   "outputs": [
    {
     "data": {
      "text/plain": [
       "['ArithmeticError',\n",
       " 'AssertionError',\n",
       " 'AttributeError',\n",
       " 'BaseException',\n",
       " 'BlockingIOError',\n",
       " 'BrokenPipeError',\n",
       " 'BufferError',\n",
       " 'BytesWarning',\n",
       " 'ChildProcessError',\n",
       " 'ConnectionAbortedError',\n",
       " 'ConnectionError',\n",
       " 'ConnectionRefusedError',\n",
       " 'ConnectionResetError',\n",
       " 'DeprecationWarning',\n",
       " 'EOFError',\n",
       " 'Ellipsis',\n",
       " 'EncodingWarning',\n",
       " 'EnvironmentError',\n",
       " 'Exception',\n",
       " 'False',\n",
       " 'FileExistsError',\n",
       " 'FileNotFoundError',\n",
       " 'FloatingPointError',\n",
       " 'FutureWarning',\n",
       " 'GeneratorExit',\n",
       " 'IOError',\n",
       " 'ImportError',\n",
       " 'ImportWarning',\n",
       " 'IndentationError',\n",
       " 'IndexError',\n",
       " 'InterruptedError',\n",
       " 'IsADirectoryError',\n",
       " 'KeyError',\n",
       " 'KeyboardInterrupt',\n",
       " 'LookupError',\n",
       " 'MemoryError',\n",
       " 'ModuleNotFoundError',\n",
       " 'NameError',\n",
       " 'None',\n",
       " 'NotADirectoryError',\n",
       " 'NotImplemented',\n",
       " 'NotImplementedError',\n",
       " 'OSError',\n",
       " 'OverflowError',\n",
       " 'PendingDeprecationWarning',\n",
       " 'PermissionError',\n",
       " 'ProcessLookupError',\n",
       " 'RecursionError',\n",
       " 'ReferenceError',\n",
       " 'ResourceWarning',\n",
       " 'RuntimeError',\n",
       " 'RuntimeWarning',\n",
       " 'StopAsyncIteration',\n",
       " 'StopIteration',\n",
       " 'SyntaxError',\n",
       " 'SyntaxWarning',\n",
       " 'SystemError',\n",
       " 'SystemExit',\n",
       " 'TabError',\n",
       " 'TimeoutError',\n",
       " 'True',\n",
       " 'TypeError',\n",
       " 'UnboundLocalError',\n",
       " 'UnicodeDecodeError',\n",
       " 'UnicodeEncodeError',\n",
       " 'UnicodeError',\n",
       " 'UnicodeTranslateError',\n",
       " 'UnicodeWarning',\n",
       " 'UserWarning',\n",
       " 'ValueError',\n",
       " 'Warning',\n",
       " 'ZeroDivisionError',\n",
       " '__IPYTHON__',\n",
       " '__build_class__',\n",
       " '__debug__',\n",
       " '__doc__',\n",
       " '__import__',\n",
       " '__loader__',\n",
       " '__name__',\n",
       " '__package__',\n",
       " '__spec__',\n",
       " 'abs',\n",
       " 'aiter',\n",
       " 'all',\n",
       " 'anext',\n",
       " 'any',\n",
       " 'ascii',\n",
       " 'bin',\n",
       " 'bool',\n",
       " 'breakpoint',\n",
       " 'bytearray',\n",
       " 'bytes',\n",
       " 'callable',\n",
       " 'chr',\n",
       " 'classmethod',\n",
       " 'compile',\n",
       " 'complex',\n",
       " 'copyright',\n",
       " 'credits',\n",
       " 'delattr',\n",
       " 'dict',\n",
       " 'dir',\n",
       " 'display',\n",
       " 'divmod',\n",
       " 'enumerate',\n",
       " 'eval',\n",
       " 'exec',\n",
       " 'execfile',\n",
       " 'filter',\n",
       " 'float',\n",
       " 'format',\n",
       " 'frozenset',\n",
       " 'get_ipython',\n",
       " 'getattr',\n",
       " 'globals',\n",
       " 'hasattr',\n",
       " 'hash',\n",
       " 'help',\n",
       " 'hex',\n",
       " 'id',\n",
       " 'input',\n",
       " 'int',\n",
       " 'isinstance',\n",
       " 'issubclass',\n",
       " 'iter',\n",
       " 'len',\n",
       " 'license',\n",
       " 'list',\n",
       " 'locals',\n",
       " 'map',\n",
       " 'max',\n",
       " 'memoryview',\n",
       " 'min',\n",
       " 'next',\n",
       " 'object',\n",
       " 'oct',\n",
       " 'open',\n",
       " 'ord',\n",
       " 'pow',\n",
       " 'print',\n",
       " 'property',\n",
       " 'range',\n",
       " 'repr',\n",
       " 'reversed',\n",
       " 'round',\n",
       " 'runfile',\n",
       " 'set',\n",
       " 'setattr',\n",
       " 'slice',\n",
       " 'sorted',\n",
       " 'staticmethod',\n",
       " 'str',\n",
       " 'sum',\n",
       " 'super',\n",
       " 'tuple',\n",
       " 'type',\n",
       " 'vars',\n",
       " 'zip']"
      ]
     },
     "execution_count": 28,
     "metadata": {},
     "output_type": "execute_result"
    }
   ],
   "source": [
    "# 파이썬의 기본 내장함수 보기\n",
    "dir(__builtins__) #함수명이 기억 안날 때 사"
   ]
  },
  {
   "cell_type": "markdown",
   "metadata": {},
   "source": [
    "### 입력함수 호출하기"
   ]
  },
  {
   "cell_type": "code",
   "execution_count": null,
   "metadata": {},
   "outputs": [],
   "source": [
    "# 입력함수 input의 도움말 보기\n"
   ]
  },
  {
   "cell_type": "code",
   "execution_count": null,
   "metadata": {},
   "outputs": [],
   "source": [
    "input()"
   ]
  },
  {
   "cell_type": "code",
   "execution_count": null,
   "metadata": {},
   "outputs": [],
   "source": [
    "input('메시지를 입력하세요')"
   ]
  },
  {
   "cell_type": "code",
   "execution_count": null,
   "metadata": {},
   "outputs": [],
   "source": [
    "# 숫자를 입력하면 어떻게 될까요?\n",
    "input('나이를 입력하세요')"
   ]
  },
  {
   "cell_type": "code",
   "execution_count": null,
   "metadata": {},
   "outputs": [],
   "source": [
    "# 나이만 출력되는 이유는 무엇일까요?\n",
    "input('이름을 입력하세요')\n",
    "input('나이를 입력하세요')"
   ]
  },
  {
   "cell_type": "code",
   "execution_count": null,
   "metadata": {},
   "outputs": [],
   "source": [
    "# 값을 리턴하는 함수는 리턴값을 변수에 담아 사용할 수 있습니다.\n",
    "\n",
    "# 이름을 입력받아 변수 name에 할당합니다.\n",
    "\n",
    "# 나이를 입력받아 변수 age에 할당합니다.\n",
    "\n",
    "# 나이에 1을 더합니다."
   ]
  },
  {
   "cell_type": "code",
   "execution_count": null,
   "metadata": {},
   "outputs": [],
   "source": [
    "# print함수는 리턴값이 있는 함수일까?\n"
   ]
  },
  {
   "cell_type": "code",
   "execution_count": null,
   "metadata": {},
   "outputs": [],
   "source": [
    "# input함수는 리턴값이 있는 함수일까?\n"
   ]
  },
  {
   "cell_type": "markdown",
   "metadata": {},
   "source": [
    "### 모듈의 함수 호출하기"
   ]
  },
  {
   "cell_type": "code",
   "execution_count": null,
   "metadata": {},
   "outputs": [],
   "source": [
    "# 로켓 발사 카운트다운\n",
    "import time\n",
    "print(3)\n",
    "print(2)\n",
    "print(1)\n",
    "print(\"launch!\")\n"
   ]
  },
  {
   "cell_type": "code",
   "execution_count": null,
   "metadata": {},
   "outputs": [],
   "source": [
    "import time as t\n",
    "print(3)\n",
    "print(2)\n",
    "print(1)\n",
    "print(\"launch!\")\n"
   ]
  },
  {
   "cell_type": "code",
   "execution_count": null,
   "metadata": {},
   "outputs": [],
   "source": [
    "from time import sleep\n",
    "print(3)\n",
    "print(2)\n",
    "print(1)\n",
    "print(\"launch!\")\n"
   ]
  },
  {
   "cell_type": "code",
   "execution_count": null,
   "metadata": {},
   "outputs": [],
   "source": [
    "# 모듈의 함수 사용법\n",
    "# default값이 없는 매개변수에는 반드시 값을 전달해주어야 합니다.\n",
    "import time \n",
    "time.sleep?"
   ]
  },
  {
   "cell_type": "code",
   "execution_count": null,
   "metadata": {},
   "outputs": [],
   "source": [
    "# 리턴값이 없는 함수는 코드셀의 마지막 줄에 있어도 아무것도 출력되지 않아요.\n",
    "time.sleep(1)"
   ]
  },
  {
   "cell_type": "code",
   "execution_count": null,
   "metadata": {},
   "outputs": [],
   "source": [
    "# 리턴값이 있는 함수는 코드셀의 마지막 줄에 있을 때, 리턴값을 출력해줘요.\n",
    "import random\n",
    "random.randint(1,10)"
   ]
  },
  {
   "cell_type": "code",
   "execution_count": null,
   "metadata": {},
   "outputs": [],
   "source": [
    "random.randint?"
   ]
  },
  {
   "cell_type": "code",
   "execution_count": null,
   "metadata": {},
   "outputs": [],
   "source": [
    "# 모듈의 함수 목록 보기\n",
    "import random \n",
    "dir(random)"
   ]
  },
  {
   "cell_type": "markdown",
   "metadata": {},
   "source": [
    "### 변수"
   ]
  },
  {
   "cell_type": "code",
   "execution_count": null,
   "metadata": {},
   "outputs": [],
   "source": [
    "# 변수에는 한번에 하나의 자료만 담을 수 있습니다.\n",
    "# 동일한 이름의 변수에 값을 여러 번 할당하면 마지막 할당한 값만 남습니다.\n",
    "family = 'father'\n",
    "family = 'mother'\n",
    "family = 'syster'\n",
    "family = 'brother'\n",
    "family = 'me'\n",
    "\n",
    "# family를 출력해보세요."
   ]
  },
  {
   "cell_type": "code",
   "execution_count": null,
   "metadata": {},
   "outputs": [],
   "source": [
    "# 변수에는 어떠한 type의 자료도 담을 수 있습니다.\n",
    "# 변수에 할당되는 값에 따라 변수의 자료형이 결정됩니다.\n",
    "\n",
    "a = 10 \n",
    "print(a, type(a))\n",
    "\n",
    "a = 'hello'\n",
    "print(a, type(a))\n",
    "\n",
    "a = ['python','java','c']\n",
    "print(a, type(a))\n",
    "\n",
    "# a에 10.0을 할당하고, 값과 자료형을 출력해보세요."
   ]
  },
  {
   "cell_type": "markdown",
   "metadata": {},
   "source": [
    "### 기본자료형\n",
    "    \n"
   ]
  },
  {
   "cell_type": "code",
   "execution_count": null,
   "metadata": {},
   "outputs": [],
   "source": [
    "# '홍길동'의 자료형은?"
   ]
  },
  {
   "cell_type": "code",
   "execution_count": null,
   "metadata": {},
   "outputs": [],
   "source": [
    "# 100의 자료형은?"
   ]
  },
  {
   "cell_type": "code",
   "execution_count": null,
   "metadata": {},
   "outputs": [],
   "source": [
    "# 100.0의 자료형은?"
   ]
  },
  {
   "cell_type": "code",
   "execution_count": null,
   "metadata": {},
   "outputs": [],
   "source": [
    "# 1>2의 자료형은?"
   ]
  },
  {
   "cell_type": "code",
   "execution_count": null,
   "metadata": {},
   "outputs": [],
   "source": [
    "# 'True'의 자료형은?"
   ]
  },
  {
   "cell_type": "code",
   "execution_count": null,
   "metadata": {},
   "outputs": [],
   "source": [
    "# 'true'의 자료형은?"
   ]
  },
  {
   "cell_type": "code",
   "execution_count": null,
   "metadata": {},
   "outputs": [],
   "source": [
    "# True의 자료형은?"
   ]
  },
  {
   "cell_type": "code",
   "execution_count": null,
   "metadata": {},
   "outputs": [],
   "source": [
    "# true의 자료형은?"
   ]
  },
  {
   "cell_type": "code",
   "execution_count": null,
   "metadata": {},
   "outputs": [],
   "source": [
    "true = 'hello'\n",
    "# true의 자료형은?"
   ]
  },
  {
   "cell_type": "markdown",
   "metadata": {},
   "source": [
    "### 컨테이너자료형"
   ]
  },
  {
   "cell_type": "markdown",
   "metadata": {},
   "source": [
    "#### 리스트(list)"
   ]
  },
  {
   "cell_type": "code",
   "execution_count": null,
   "metadata": {},
   "outputs": [],
   "source": [
    "# 리스트 생성하기\n",
    "todo_list = ['운동','독서','청소','공부','저녁약속']\n",
    "print(todo_list)\n",
    "print(type(todo_list))"
   ]
  },
  {
   "cell_type": "code",
   "execution_count": null,
   "metadata": {},
   "outputs": [],
   "source": [
    "# 리스트에서 하나의 값 가져오기\n",
    "todo_list = ['운동','독서','청소','공부','저녁약속']\n",
    "print(todo_list)\n",
    "print('첫번째로 할 일:')\n",
    "print('세번째로 할 일:')\n",
    "print('마지막으로 할 일:')\n",
    "print('마지막으로 할 일:')"
   ]
  },
  {
   "cell_type": "code",
   "execution_count": null,
   "metadata": {},
   "outputs": [],
   "source": [
    "# 리스트에서 값 잘라오기\n",
    "todo_list = ['운동','독서','청소','공부','저녁약속']\n",
    "print(todo_list)\n",
    "print(\"두번째~네번째 할 일:\")\n",
    "print(\"처음 할 일 2가지:\")\n",
    "print(\"3번째 이후로 할 일:\")\n",
    "print(\"할일 모두 가져오기:\")"
   ]
  },
  {
   "cell_type": "code",
   "execution_count": null,
   "metadata": {},
   "outputs": [],
   "source": [
    "# 리스트 끝에 값 추가하기\n",
    "todo_list = ['운동','독서','청소','공부','저녁약속']\n",
    "print(todo_list)\n",
    "print(\"-----마지막에 '일기쓰기' 추가-----\")\n"
   ]
  },
  {
   "cell_type": "code",
   "execution_count": null,
   "metadata": {},
   "outputs": [],
   "source": [
    "# 리스트 정렬하기\n",
    "todo_list = ['운동','독서','청소','공부','저녁약속']\n",
    "print(todo_list)\n",
    "print(\"-----정렬하기-----\")\n"
   ]
  },
  {
   "cell_type": "code",
   "execution_count": null,
   "metadata": {},
   "outputs": [],
   "source": [
    "# 리스트가 가지는 함수(메소드)\n",
    "dir(list)"
   ]
  },
  {
   "cell_type": "code",
   "execution_count": null,
   "metadata": {},
   "outputs": [],
   "source": [
    "# 오늘은 뭘 먹지?\n",
    "menu = ['햄버거','김치찌개','초밥']\n",
    "\n",
    "# 메뉴 추가하기\n",
    "\n",
    "\n",
    "# 랜덤으로 메뉴 선택하기 (random모듈의 choice 함수 사용)\n",
    "\n"
   ]
  },
  {
   "cell_type": "markdown",
   "metadata": {},
   "source": [
    "#### 튜플(tuple)"
   ]
  },
  {
   "cell_type": "code",
   "execution_count": null,
   "metadata": {},
   "outputs": [],
   "source": [
    "t3 = (80,90,100) \n",
    "t1 = (80,) \n",
    "not_tuple = (80)\n",
    "\n",
    "# t3, t1, no_tuple의 값과 type을 출력해보세요.\n"
   ]
  },
  {
   "cell_type": "code",
   "execution_count": null,
   "metadata": {},
   "outputs": [],
   "source": [
    "t3 = 80,90,100\n",
    "t1 = 80, \n",
    "not_tuple = 80\n",
    "\n",
    "# t3, t1, no_tuple의 값과 type을 출력해보세요."
   ]
  },
  {
   "cell_type": "code",
   "execution_count": null,
   "metadata": {},
   "outputs": [],
   "source": [
    "dir(tuple)"
   ]
  },
  {
   "cell_type": "markdown",
   "metadata": {},
   "source": [
    "#### 딕셔너리(dict)"
   ]
  },
  {
   "cell_type": "code",
   "execution_count": null,
   "metadata": {},
   "outputs": [],
   "source": [
    "# 분식집 메뉴판\n",
    "menu = {\"김밥\":4000, \"떡볶이\":3000, \"어묵\":2000, \"튀김\":3500}\n",
    "print(menu)\n",
    "\n",
    "# \"김밥\"은 얼마인지 출력해보세요.\n",
    "\n",
    "# 딕셔너리는 인덱스가 없음\n",
    "# print(menu[0]) x"
   ]
  },
  {
   "cell_type": "markdown",
   "metadata": {},
   "source": [
    "#### 집합(set)"
   ]
  },
  {
   "cell_type": "code",
   "execution_count": null,
   "metadata": {},
   "outputs": [],
   "source": [
    "snack = {'새우깡','오감자','양파링','포카칩','양파링'}\n",
    "print(snack)"
   ]
  },
  {
   "cell_type": "code",
   "execution_count": null,
   "metadata": {},
   "outputs": [],
   "source": [
    "# 달콤한 과자, 짭짤한 과자\n",
    "sweet= {'빼빼로','칸초','허니버터칩','허니버터칩','허니버터칩'}\n",
    "salty = {'포카칩','새우깡','허니버터칩'}\n",
    "print(sweet)\n",
    "print(salty)"
   ]
  },
  {
   "cell_type": "code",
   "execution_count": null,
   "metadata": {},
   "outputs": [],
   "source": [
    "# 모든 과자 집합\n",
    "print(\"합집합:\")"
   ]
  },
  {
   "cell_type": "code",
   "execution_count": null,
   "metadata": {},
   "outputs": [],
   "source": [
    "# 단짠을 찾아라\n",
    "print(\"교집합:\")"
   ]
  },
  {
   "cell_type": "code",
   "execution_count": null,
   "metadata": {},
   "outputs": [],
   "source": [
    "# 달콤하기만 한 과자\n",
    "print(\"차집합(sweet에만 속하는 과자):\")"
   ]
  },
  {
   "cell_type": "code",
   "execution_count": null,
   "metadata": {},
   "outputs": [],
   "source": [
    "# 짭짤하기만 한 과자\n",
    "print(\"차집합(salty에만 속하는 과자):\")"
   ]
  },
  {
   "cell_type": "markdown",
   "metadata": {},
   "source": [
    "### 객체의 메소드"
   ]
  },
  {
   "cell_type": "code",
   "execution_count": null,
   "metadata": {},
   "outputs": [],
   "source": [
    "fruits = ['apple','banana','kiwi']\n",
    "fruits.append('watermelon') # 반환값이 없는 메소드\n",
    "print(fruits)\n",
    "\n",
    "len(fruits) # len : 반환값이 있는 함수"
   ]
  },
  {
   "cell_type": "markdown",
   "metadata": {},
   "source": [
    "### 연산자"
   ]
  },
  {
   "cell_type": "markdown",
   "metadata": {},
   "source": [
    "#### 산술연산"
   ]
  },
  {
   "cell_type": "code",
   "execution_count": null,
   "metadata": {},
   "outputs": [],
   "source": [
    "print('10+3=')\n",
    "print('10-3=')\n",
    "print('10*3=')\n",
    "print('10/3=')\n",
    "print('10//3=')\n",
    "print('10%%3=')\n",
    "print('10**3=')"
   ]
  },
  {
   "cell_type": "markdown",
   "metadata": {},
   "source": [
    "#### 비교연산"
   ]
  },
  {
   "cell_type": "code",
   "execution_count": null,
   "metadata": {},
   "outputs": [],
   "source": [
    "print('1==1')\n",
    "print('1!=1')\n",
    "print('1>1')\n",
    "print('1<1')\n",
    "print('1>=1')\n",
    "print('1<=1')\n"
   ]
  },
  {
   "cell_type": "markdown",
   "metadata": {},
   "source": [
    "#### 논리연산"
   ]
  },
  {
   "cell_type": "code",
   "execution_count": null,
   "metadata": {},
   "outputs": [],
   "source": [
    "# kevin은 8살이고 키는 130센티미터입니다.\n",
    "# 나이가 10살 이상이고 키가 120 이상이면 놀이기구를 탈 수 있습니다.\n",
    "# kevin은 놀이기구를 탈 수 있을까요?\n",
    "age = 8\n",
    "height = 130\n",
    "\n",
    "print()"
   ]
  },
  {
   "cell_type": "code",
   "execution_count": null,
   "metadata": {},
   "outputs": [],
   "source": [
    "# kevin은 8살이고 키는 130센티미터입니다.\n",
    "# 나이가 10살 이상이거나 키가 120 이상이면 놀이기구를 탈 수 있습니다.\n",
    "# kevin은 놀이기구를 탈 수 있을까요?\n",
    "age = 8\n",
    "height = 130\n",
    "\n",
    "print()"
   ]
  },
  {
   "cell_type": "markdown",
   "metadata": {},
   "source": [
    "### 흐름 제어"
   ]
  },
  {
   "cell_type": "markdown",
   "metadata": {},
   "source": [
    "#### 조건문"
   ]
  },
  {
   "cell_type": "code",
   "execution_count": null,
   "metadata": {},
   "outputs": [],
   "source": [
    "# 60점 이상이면 합격\n",
    "score = 60"
   ]
  },
  {
   "cell_type": "code",
   "execution_count": null,
   "metadata": {},
   "outputs": [],
   "source": [
    "# 60점 이상이면 합격, 아니면 불합격\n",
    "score = 30"
   ]
  },
  {
   "cell_type": "code",
   "execution_count": null,
   "metadata": {},
   "outputs": [],
   "source": [
    "# 90점 이상이면 Good, 60점 이상이면 Soso, 그 외에는 Bad\n",
    "score = 75"
   ]
  },
  {
   "cell_type": "markdown",
   "metadata": {},
   "source": [
    "#### for 반복문"
   ]
  },
  {
   "cell_type": "code",
   "execution_count": null,
   "metadata": {},
   "outputs": [],
   "source": [
    "# ['apple','banana','kiwi']로 반복"
   ]
  },
  {
   "cell_type": "code",
   "execution_count": null,
   "metadata": {},
   "outputs": [],
   "source": [
    "# 'python'로 반복"
   ]
  },
  {
   "cell_type": "code",
   "execution_count": null,
   "metadata": {},
   "outputs": [],
   "source": [
    "# range(5)로 반복"
   ]
  },
  {
   "cell_type": "code",
   "execution_count": null,
   "metadata": {},
   "outputs": [],
   "source": [
    "# range(1,5)로 반복"
   ]
  },
  {
   "cell_type": "code",
   "execution_count": null,
   "metadata": {},
   "outputs": [],
   "source": [
    "# range(1,10,2)로 반복"
   ]
  },
  {
   "cell_type": "code",
   "execution_count": null,
   "metadata": {},
   "outputs": [],
   "source": [
    "# range(10,1,-1)로 반복"
   ]
  },
  {
   "cell_type": "code",
   "execution_count": null,
   "metadata": {},
   "outputs": [],
   "source": [
    "# 로켓발사 카운트다운 for문으로 만들기\n",
    "\n",
    "import time as t\n",
    "print(10)\n",
    "t.sleep(1)\n",
    "print(9)\n",
    "t.sleep(1)\n",
    "print(8)\n",
    "t.sleep(1)\n",
    "print(7)\n",
    "t.sleep(1)\n",
    "print(6)\n",
    "t.sleep(1)\n",
    "print(5)\n",
    "t.sleep(1)\n",
    "print(4)\n",
    "t.sleep(1)\n",
    "print(3)\n",
    "t.sleep(1)\n",
    "print(2)\n",
    "t.sleep(1)\n",
    "print(1)\n",
    "t.sleep(1)\n",
    "print('launch!')"
   ]
  },
  {
   "cell_type": "markdown",
   "metadata": {},
   "source": [
    "#### while 반복문"
   ]
  },
  {
   "cell_type": "code",
   "execution_count": null,
   "metadata": {},
   "outputs": [],
   "source": [
    "user_password = '1234'\n",
    "input_password = input(\"비밀번호를 입력하세요.\")\n",
    "\n",
    "# 올바른 비밀번호를 입력할 때까지 반복하여 비밀번호를 입력받습니다.\n",
    "# 올바른 비밀번호를 입력하면 '로그인 성공' 출력\n",
    "# 올바른 비밀번호가 아니면 '잘못된 비밀번호입니다' 출력\n"
   ]
  },
  {
   "cell_type": "code",
   "execution_count": null,
   "metadata": {},
   "outputs": [],
   "source": [
    "user_password = '1234'\n",
    "\n",
    "# 무한반복하며 비밀번호를 입력받습니다.\n",
    "# 올바른 비밀번호를 입력하면 '로그인 성공' 출력하고 반복 종료\n",
    "# 올바른 비밀번호가 아니면 '잘못된 비밀번호입니다' 출력"
   ]
  }
 ],
 "metadata": {
  "kernelspec": {
   "display_name": "Python 3",
   "language": "python",
   "name": "python3"
  },
  "language_info": {
   "codemirror_mode": {
    "name": "ipython",
    "version": 3
   },
   "file_extension": ".py",
   "mimetype": "text/x-python",
   "name": "python",
   "nbconvert_exporter": "python",
   "pygments_lexer": "ipython3",
   "version": "3.10.13"
  }
 },
 "nbformat": 4,
 "nbformat_minor": 2
}
